{
 "cells": [
  {
   "cell_type": "markdown",
   "metadata": {},
   "source": [
    "# Project Discription\n",
    "\n",
    "PYBANGLA is a python3 package for Bengala Number, DateTime and Text Normalizer. This package can be used Normalize the text number and date (ex: number to text vice versa). This framework  also can be used Django, Flask, FastAPI, and others. PYBANGLA module supported operating system Linux/Unix, Mac OS and Windows.\n",
    "Available Features\n",
    "\n",
    "Features available in PYBANGLA:\n",
    "\n",
    "1. Date Format\n",
    "2. Text Normalization\n",
    "3. Number Converstion\n",
    "4. Months, Weekdays, Seasons\n",
    "\n",
    "\n",
    "# Installation\n",
    "\n",
    "The easiest way to install pybangla is to use pip:\n",
    "\n",
    "```\n",
    "pip install pybangla\n",
    "```\n",
    "\n",
    "# Usage"
   ]
  },
  {
   "cell_type": "markdown",
   "metadata": {},
   "source": [
    "# Import Module"
   ]
  },
  {
   "cell_type": "code",
   "execution_count": 1,
   "metadata": {},
   "outputs": [],
   "source": [
    "import pybangla\n",
    "nrml = pybangla.Normalizer()"
   ]
  },
  {
   "cell_type": "markdown",
   "metadata": {},
   "source": [
    "# 1. Date Format\n",
    "\n",
    "Supported Date format, it can convert Bangla and English Both Language\n",
    "```\n",
    "\"2023-04-05\",  \"06-04-2023\", \"04/01/2023\", \"07 April, 2023\", \"Apr 1, 2023\",  \"2023/04/01\", \"01-Apr-2023\", \"01-Apr/2023\",  \"20230401\",  \"20042024\", [\"1\", \"4\", \"2025\"]\n",
    "\n",
    "```"
   ]
  },
  {
   "cell_type": "code",
   "execution_count": 2,
   "metadata": {},
   "outputs": [
    {
     "name": "stdout",
     "output_type": "stream",
     "text": [
      "{'date': '০১', 'month': 'এপ্রিল', 'year': '২০২৩', 'txt_date': 'এক', 'txt_year': 'বিশশো তেইশ', 'weekday': 'শনিবার', 'ls_month': 'শ্রাবণ', 'seasons': 'বর্ষা'}\n"
     ]
    }
   ],
   "source": [
    "\n",
    "import pybangla\n",
    "nrml = pybangla.Normalizer()\n",
    "\n",
    "date = nrml.date_format(\"০১-এপ্রিল/২০২৩\", language=\"bn\")\n",
    "print(f\"{date}\")"
   ]
  },
  {
   "cell_type": "code",
   "execution_count": 3,
   "metadata": {},
   "outputs": [
    {
     "name": "stdout",
     "output_type": "stream",
     "text": [
      "{'date': '২৯', 'month': 'এপ্রিল', 'year': '২০২৪', 'txt_date': 'ঊনত্রিশ', 'txt_year': 'ঊনত্রিশ', 'weekday': 'সোমবার', 'ls_month': 'শ্রাবণ', 'seasons': 'বর্ষা'}\n"
     ]
    }
   ],
   "source": [
    "import pybangla\n",
    "nrml = pybangla.Normalizer()\n",
    "\n",
    "date = nrml.today()\n",
    "print(f\"{date}\")"
   ]
  },
  {
   "cell_type": "code",
   "execution_count": 4,
   "metadata": {},
   "outputs": [
    {
     "name": "stdout",
     "output_type": "stream",
     "text": [
      "আমাকে 102001 টাকা দেয় এন্ড তুমি 20000 টাকা নিও এন্ড 104201 টাকা 122 \n"
     ]
    }
   ],
   "source": [
    "\n",
    "\n",
    "import pybangla\n",
    "nrml = pybangla.Normalizer()\n",
    "\n",
    "text = \"আমাকে এক লক্ষ দুই হাজার এক টাকা দেয় এন্ড তুমি বিশ হাজার টাকা নিও এন্ড এক লক্ষ চার হাজার দুইশ এক টাকা এক ডবল দুই\"\n",
    "number = nrml.word2number(text)\n",
    "print(f\"{number}\")"
   ]
  },
  {
   "cell_type": "code",
   "execution_count": 6,
   "metadata": {},
   "outputs": [
    {
     "name": "stdout",
     "output_type": "stream",
     "text": [
      "রাহিম ক্লাস ওয়ান এ প্রথম, এগারোতম বাইশতম তেত্রিশতম, বারোশো চৌত্রিশ শতাব্দীতে দুই হাজার ত্রিশ দশমি এক দুই তিন চার বিবিধ বাকেরগঞ্জ উপজেলার প্রায় চল্লিশ ভাগের পেশাই চাষাবাদ আশি and চল্লিশ বাইশ\n"
     ]
    }
   ],
   "source": [
    "import pybangla\n",
    "nrml = pybangla.Normalizer()\n",
    "\n",
    "text = \"রাহিম ক্লাস ওয়ান এ ১ম, ১১তম ২২ তম ৩৩ তম, ১২৩৪ শতাব্দীতে ¥২০৩০.১২৩৪ বিবিধ  বাকেরগঞ্জ উপজেলার প্রায় 40 ভাগের পেশাই চাষাবাদ 80 and 40 ২২\"\n",
    "text = nrml.text_normalizer(text)\n",
    "print(f\"{text}\")"
   ]
  },
  {
   "cell_type": "code",
   "execution_count": null,
   "metadata": {},
   "outputs": [],
   "source": []
  },
  {
   "cell_type": "code",
   "execution_count": 5,
   "metadata": {},
   "outputs": [
    {
     "name": "stdout",
     "output_type": "stream",
     "text": [
      "{'digit': '১২৩৪৫', 'digit_word': 'এক দুই তিন চার পাঁচ', 'number_string': 'বারো হাজার তিন শত পঁয়তাল্লিশ'}\n"
     ]
    }
   ],
   "source": [
    "import pybangla\n",
    "nrml = pybangla.Normalizer()\n",
    "number = nrml.number_convert(\"12345\", language=\"bn\")\n",
    "print(number)"
   ]
  },
  {
   "cell_type": "code",
   "execution_count": null,
   "metadata": {},
   "outputs": [],
   "source": []
  }
 ],
 "metadata": {
  "kernelspec": {
   "display_name": "Python 3 (ipykernel)",
   "language": "python",
   "name": "python3"
  },
  "language_info": {
   "codemirror_mode": {
    "name": "ipython",
    "version": 3
   },
   "file_extension": ".py",
   "mimetype": "text/x-python",
   "name": "python",
   "nbconvert_exporter": "python",
   "pygments_lexer": "ipython3",
   "version": "3.8.16"
  }
 },
 "nbformat": 4,
 "nbformat_minor": 4
}
