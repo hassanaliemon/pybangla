{
 "cells": [
  {
   "cell_type": "markdown",
   "metadata": {},
   "source": [
    "# Project Discription\n",
    "\n",
    "PYBANGLA is a python3 package for Bengala Number, DateTime and Text Normalizer. This package can be used Normalize the text number and date (ex: number to text vice versa). This framework  also can be used Django, Flask, FastAPI, and others. PYBANGLA module supported operating system Linux/Unix, Mac OS and Windows.\n",
    "Available Features\n",
    "\n",
    "Features available in PYBANGLA:\n",
    "\n",
    "1. Text Normalization\n",
    "2. Number Converstion\n",
    "3. Date Format\n",
    "4. Months, Weekdays, Seasons\n",
    "\n",
    "\n",
    "# Installation\n",
    "\n",
    "The easiest way to install pybangla is to use pip:\n",
    "\n",
    "```sh\n",
    "pip install pybangla\n",
    "\n",
    "```"
   ]
  },
  {
   "cell_type": "markdown",
   "metadata": {},
   "source": [
    "## 1. Text Normalization\n",
    "\n",
    "This module perform below this operation for text processing\n",
    "\n",
    "``` py\n",
    "1. whitespace\n",
    "2. expand_symbols (ex. &\" -> এবং)\n",
    "3. abbreviations (ex. মোঃ ->  মোহাম্মদ)\n",
    "3. expand_position (ex. ১ম -> প্রথম)\n",
    "4. currency_amounts (ex.৳-> টাকা)[current supproted ৳$£€¥₹₽₺ ]\n",
    "5. year_formation (ex. ২০৩০ -> দুই হাজার ত্রিশ)\n",
    "6. number_processing (৩৩-> তেত্রিশ)\n",
    "\n",
    "```\n"
   ]
  },
  {
   "cell_type": "code",
   "execution_count": 4,
   "metadata": {},
   "outputs": [
    {
     "name": "stdout",
     "output_type": "stream",
     "text": [
      "year_in_number[1] ০\n",
      "রাহিম ক্লাস ওয়ান এ প্রথম, এন্ড বাসার ক্লাস এ তেত্রিশতম, সে জন্য দুই হাজার ত্রিশ শতাব্দীতে দুই হাজার ত্রিশ দশমি এক দুই তিন চার ইয়েন দিতে হয়েছে\n"
     ]
    }
   ],
   "source": [
    "import pybangla\n",
    "nrml = pybangla.Normalizer()\n",
    "\n",
    "text = \"রাহিম ক্লাস ওয়ান এ ১ম, এন্ড বাসার ক্লাস এ ৩৩ তম, সে জন্য ২০৩০ শতাব্দীতে ¥২০৩০.১২৩৪ দিতে হয়েছে\"\n",
    "text = nrml.text_normalizer(text)\n",
    "print(f\"{text}\")"
   ]
  },
  {
   "cell_type": "markdown",
   "metadata": {},
   "source": [
    "## 2. Number Converstion"
   ]
  },
  {
   "cell_type": "code",
   "execution_count": 5,
   "metadata": {},
   "outputs": [
    {
     "name": "stdout",
     "output_type": "stream",
     "text": [
      "আমাকে 102001 টাকা দেয় এন্ড তুমি 20000 টাকা নিও এন্ড 104201 টাকা 122 \n"
     ]
    }
   ],
   "source": [
    "import pybangla\n",
    "nrml = pybangla.Normalizer()\n",
    "\n",
    "text = \"আমাকে এক লক্ষ দুই হাজার এক টাকা দেয় এন্ড তুমি বিশ হাজার টাকা নিও এন্ড এক লক্ষ চার হাজার দুইশ এক টাকা এক ডবল দুই\"\n",
    "number = nrml.word2number(text)\n",
    "print(f\"{number}\")"
   ]
  },
  {
   "cell_type": "code",
   "execution_count": 7,
   "metadata": {},
   "outputs": [
    {
     "name": "stdout",
     "output_type": "stream",
     "text": [
      "input   : আমি এক দুই তিন চার পাঁচ টু থ্রি ফাইভ ছয় সেভেন এইট নাইন শূন্য আমার ফোন নাম্বার জিরো ওয়ান ডাবল সেভেন\n",
      "output : আমি 1234523567890 আমার ফোন নাম্বার 0177 \n",
      "input   : ওয়ান ডাবল নাইন টু\n",
      "output : 1992 \n",
      "input   : একশ বিশ টাকা\n",
      "output : 120 টাকা \n",
      "input   : জিরো টু ডাবল ওয়ান\n",
      "output : 0211 \n",
      "input   : জিরো ওয়ান ডাবল সেভেন থ্রি ডাবল ফাইভ নাইন থ্রি সেভেন নাইন\n",
      "output : 01773559379 \n",
      "input   : আমার ফোন নম্বর জিরো ওয়ান ডাবল সেভেন থ্রি ডাবল ফাইভ নাইন থ্রি সেভেন নাইন\n",
      "output : আমার ফোন নম্বর 01773559379 \n",
      "input   : ট্রিপল টু ওয়ান\n",
      "output : 2221 \n",
      "input   : দুই হাজার চারশো বিশ\n",
      "output : 2420 \n",
      "input   : দুই হাজার চারশ  বিশ\n",
      "output : 2420 \n",
      "input   : হাজার বিশ\n",
      "output : 1020 \n",
      "input   : ডাবল নাইন টু\n",
      "output : 992 \n",
      "input   : এক লক্ষ চার হাজার দুইশ\n",
      "output : 104200 \n",
      "input   : এক লক্ষ চার হাজার দুইশ এক\n",
      "output : 104201 \n",
      "input   : এক লক্ষ চার হাজার দুইশ এক টাকা এক দুই\n",
      "output : 104201 টাকা 12 \n",
      "input   : আমাকে এক লক্ষ দুই হাজার টাকা দেয়\n",
      "output : আমাকে 102000 টাকা দেয় \n",
      "input   : আমাকে এক লক্ষ দুই হাজার এক টাকা দেয় এন্ড তুমি বিশ হাজার টাকা নিও এন্ড এক লক্ষ চার হাজার দুইশ এক টাকা এক ডবল দুই\n",
      "output : আমাকে 102001 টাকা দেয় এন্ড তুমি 20000 টাকা নিও এন্ড 104201 টাকা 122 \n",
      "input   : ছয় হাজার বিশ\n",
      "output : 6020 \n",
      "input   : আমার সাড়ে পাঁচ হাজার\n",
      "output : আমার 5500 \n",
      "input   : আমার সাড়ে তিনশ\n",
      "output : আমার 350 \n",
      "input   : আড়াই হাজার\n",
      "output : 2500 \n",
      "input   : আড়াই লক্ষ\n",
      "output : 250000 \n",
      "input   : ডেরশ\n",
      "output : 150 \n",
      "input   : আমাকে ডেরশ টাকা দেয়\n",
      "output : আমাকে 150 টাকা দেয় \n",
      "input   : সাড়ে পাঁচ কোটি টাকা\n",
      "output : 55000000 টাকা \n",
      "input   : সাড়ে 1254 টাকা\n",
      "output : 1881 টাকা \n",
      "input   : জিরো\n",
      "output : 0 \n",
      "input   : একশ বিশ take একশ\n",
      "output : 120 take 100 \n",
      "input   : জিরো টু ডাবল ওয়ান\n",
      "output : 0211 \n",
      "input   : জিরো টু ওয়ান ওয়ান\n",
      "output : 0211 \n",
      "input   : থ্রি ফোর ফাইভ এইট\n",
      "output : 3458 \n",
      "input   : একশ বিশ টাকা\n",
      "output : 120 টাকা \n",
      "input   : ডাবল ওয়ান ডবল টু\n",
      "output : 1122 \n",
      "input   : জিরো ওয়ান টু\n",
      "output : 012 \n",
      "input   : থ্রি ফোর ফাইভ সিক্স\n",
      "output : 3456 \n",
      "input   : সেভেন এইট নাইন টেন\n",
      "output : 78910 \n",
      "input   : একশ দুইশ তিনশ\n",
      "output : 100 200 300 \n",
      "input   : চারশ পাঁচশ\n",
      "output : 400 500 \n",
      "input   : ছয়শ সাতশ\n",
      "output : 600 700 \n",
      "input   : আটশ নয়শ\n",
      "output : 800 900 \n",
      "input   : দশ তিরানব্বই\n",
      "output : 1093 \n",
      "input   : ট্রিপল থ্রি টু\n",
      "output : 3332 \n",
      "input   : শূন্য এক দুই তিন\n",
      "output : 0123 \n",
      "input   : চার পাঁচ ছয় সাত\n",
      "output : 4567 \n",
      "input   : আট নয় দশ এগারো\n",
      "output : 891011 \n",
      "input   : বারো তেরো চৌদ্দ পনেরো\n",
      "output : 12131415 \n",
      "input   : ষোল সতেরো আঠারো উনিশ\n",
      "output : 16171819 \n",
      "input   : বিশ একুশ বাইশ তেইশ\n",
      "output : 20212223 \n",
      "input   : চব্বিশ পঁচিশ ছাব্বিশ সাতাশ\n",
      "output : 24252627 \n",
      "input   : আঠাশ ঊনত্রিশ ত্রিশ একত্রিশ\n",
      "output : 28293031 \n",
      "input   : বত্রিশ তেত্রিশ চৌত্রিশ পঁয়ত্রিশ\n",
      "output : 32333435 \n",
      "input   : ছত্রিশ সাঁইত্রিশ আটত্রিশ ঊনচল্লিশ\n",
      "output : 36373839 \n",
      "input   : চল্লিশ একচল্লিশ বিয়াল্লিশ তেতাল্লিশ\n",
      "output : 40414243 \n",
      "input   : চুয়াল্লিশ পঁয়তাল্লিশ ছেচল্লিশ সাতচল্লিশ\n",
      "output : 44454647 \n",
      "input   : আটচল্লিশ ঊনপঞ্চাশ পঞ্চাশ একান্ন\n",
      "output : 48495051 \n",
      "input   : বাহান্ন তিপ্পান্ন চুয়ান্ন পঞ্চান্ন\n",
      "output : 52535455 \n",
      "input   : ছাপ্পান্ন সাতান্ন আটান্ন ঊনষাট\n",
      "output : 56575859 \n",
      "input   : ষাট একষট্টি বাষট্টি তেষট্টি\n",
      "output : 60616263 \n",
      "input   : চৌষট্টি পঁয়ষট্টি ছেষট্টি সাতষট্টি\n",
      "output : 64656667 \n",
      "input   : আটষট্টি ঊনসত্তর সত্তর একাত্তর\n",
      "output : 68697071 \n",
      "input   : বাহাত্তর তিয়াত্তর চুয়াত্তর পঁচাত্তর\n",
      "output : 72737475 \n",
      "input   : ছিয়াত্তর সাতাত্তর আটাত্তর ঊনআশি\n",
      "output : 76777879 \n",
      "input   : আশি একাশি বিরাশি তিরাশি\n",
      "output : 80818283 \n",
      "input   : চুরাশি পঁচাশি ছিয়াশি সাতাশি\n",
      "output : 84858687 \n",
      "input   : আটাশি ঊননব্বই নব্বই একানব্বই\n",
      "output : 88899091 \n",
      "input   : বিরানব্বই তিরানব্বই চুরানব্বই পঁচানব্বই\n",
      "output : 92939495 \n",
      "input   : ছিয়ানব্বই সাতানব্বই আটানব্বই নিরানব্বই\n",
      "output : 96979899 \n",
      "input   : এক লক্ষ চার হাজার দুইশ এক টাকা এক দুই\n",
      "output : 104201 টাকা 12 \n",
      "input   : তিনশ পঁচিশ পাঁচশ\n",
      "output : 325 500 \n",
      "input   : তিনশ পঁচিশ পাঁচশ এক\n",
      "output : 325 501 \n",
      "input   : চা-পুন\n",
      "output : চা-পুন \n",
      "input   : ওকে\n",
      "output : ওকে \n",
      "input   : ডের আউটস্ট্যান্ডিং কত\n",
      "output : ডের আউটস্ট্যান্ডিং কত \n",
      "input   : ডাবল\n",
      "output : 2 \n",
      "input   : নাইন ডাবল এইট\n",
      "output : 988 \n",
      "input   : দশ বারো এ এগুলা একশ একশ দুই\n",
      "output : 1012 এ এগুলা 100 102 \n"
     ]
    }
   ],
   "source": [
    "input_texts = [\n",
    "    \"আমি এক দুই তিন চার পাঁচ টু থ্রি ফাইভ ছয় সেভেন এইট নাইন শূন্য আমার ফোন নাম্বার জিরো ওয়ান ডাবল সেভেন\",\n",
    "    \"ওয়ান ডাবল নাইন টু\",\n",
    "    \"একশ বিশ টাকা\",\n",
    "    \"জিরো টু ডাবল ওয়ান\",\n",
    "    \"জিরো ওয়ান ডাবল সেভেন থ্রি ডাবল ফাইভ নাইন থ্রি সেভেন নাইন\",\n",
    "    \"আমার ফোন নম্বর জিরো ওয়ান ডাবল সেভেন থ্রি ডাবল ফাইভ নাইন থ্রি সেভেন নাইন\",\n",
    "    \"ট্রিপল টু ওয়ান\",\n",
    "    \"দুই হাজার চারশো বিশ\",\n",
    "    \"দুই হাজার চারশ  বিশ\",\n",
    "    \"হাজার বিশ\",\n",
    "    \"ডাবল নাইন টু\",\n",
    "    \"এক লক্ষ চার হাজার দুইশ\",\n",
    "    \"এক লক্ষ চার হাজার দুইশ এক\",\n",
    "    \"এক লক্ষ চার হাজার দুইশ এক টাকা এক দুই\",\n",
    "    \"আমাকে এক লক্ষ দুই হাজার টাকা দেয়\",\n",
    "    \"আমাকে এক লক্ষ দুই হাজার এক টাকা দেয় এন্ড তুমি বিশ হাজার টাকা নিও এন্ড এক লক্ষ চার হাজার দুইশ এক টাকা এক ডবল দুই\",\n",
    "    \"ছয় হাজার বিশ\",\n",
    "    \"আমার সাড়ে পাঁচ হাজার\",\n",
    "    \"আমার সাড়ে তিনশ\",\n",
    "    \"আড়াই হাজার\",\n",
    "    \"আড়াই লক্ষ\",\n",
    "    \"ডেরশ\",\n",
    "    \"আমাকে ডেরশ টাকা দেয়\",\n",
    "    \"সাড়ে পাঁচ কোটি টাকা\",\n",
    "    \"সাড়ে 1254 টাকা\",\n",
    "    \"জিরো\",\n",
    "    \"একশ বিশ take একশ\",\n",
    "    \"জিরো টু ডাবল ওয়ান\",\n",
    "    \"জিরো টু ওয়ান ওয়ান\",\n",
    "    \"থ্রি ফোর ফাইভ এইট\",\n",
    "    \"একশ বিশ টাকা\",\n",
    "    \"ডাবল ওয়ান ডবল টু\",\n",
    "    \"জিরো ওয়ান টু\",\n",
    "    \"থ্রি ফোর ফাইভ সিক্স\",\n",
    "    \"সেভেন এইট নাইন টেন\",\n",
    "    \"একশ দুইশ তিনশ\",\n",
    "    \"চারশ পাঁচশ\",\n",
    "    \"ছয়শ সাতশ\",\n",
    "    \"আটশ নয়শ\",\n",
    "    \"দশ তিরানব্বই\",\n",
    "    \"ট্রিপল থ্রি টু\",\n",
    "    \"শূন্য এক দুই তিন\",\n",
    "    \"চার পাঁচ ছয় সাত\",\n",
    "    \"আট নয় দশ এগারো\",\n",
    "    \"বারো তেরো চৌদ্দ পনেরো\",\n",
    "    \"ষোল সতেরো আঠারো উনিশ\",\n",
    "    \"বিশ একুশ বাইশ তেইশ\",\n",
    "    \"চব্বিশ পঁচিশ ছাব্বিশ সাতাশ\",\n",
    "    \"আঠাশ ঊনত্রিশ ত্রিশ একত্রিশ\",\n",
    "    \"বত্রিশ তেত্রিশ চৌত্রিশ পঁয়ত্রিশ\",\n",
    "    \"ছত্রিশ সাঁইত্রিশ আটত্রিশ ঊনচল্লিশ\",\n",
    "    \"চল্লিশ একচল্লিশ বিয়াল্লিশ তেতাল্লিশ\",\n",
    "    \"চুয়াল্লিশ পঁয়তাল্লিশ ছেচল্লিশ সাতচল্লিশ\",\n",
    "    \"আটচল্লিশ ঊনপঞ্চাশ পঞ্চাশ একান্ন\",\n",
    "    \"বাহান্ন তিপ্পান্ন চুয়ান্ন পঞ্চান্ন\",\n",
    "    \"ছাপ্পান্ন সাতান্ন আটান্ন ঊনষাট\",\n",
    "    \"ষাট একষট্টি বাষট্টি তেষট্টি\",\n",
    "    \"চৌষট্টি পঁয়ষট্টি ছেষট্টি সাতষট্টি\",\n",
    "    \"আটষট্টি ঊনসত্তর সত্তর একাত্তর\",\n",
    "    \"বাহাত্তর তিয়াত্তর চুয়াত্তর পঁচাত্তর\",\n",
    "    \"ছিয়াত্তর সাতাত্তর আটাত্তর ঊনআশি\",\n",
    "    \"আশি একাশি বিরাশি তিরাশি\",\n",
    "    \"চুরাশি পঁচাশি ছিয়াশি সাতাশি\",\n",
    "    \"আটাশি ঊননব্বই নব্বই একানব্বই\",\n",
    "    \"বিরানব্বই তিরানব্বই চুরানব্বই পঁচানব্বই\",\n",
    "    \"ছিয়ানব্বই সাতানব্বই আটানব্বই নিরানব্বই\",\n",
    "    \"এক লক্ষ চার হাজার দুইশ এক টাকা এক দুই\",\n",
    "    \"তিনশ পঁচিশ পাঁচশ\",\n",
    "    \"তিনশ পঁচিশ পাঁচশ এক\",\n",
    "    \"চা-পুন\",\n",
    "    \"ওকে\",\n",
    "    \"ডের আউটস্ট্যান্ডিং কত\",\n",
    "    \"ডাবল\",\n",
    "    \"নাইন ডাবল এইট\",\n",
    "    \"দশ বারো এ এগুলা একশ একশ দুই\"\n",
    "    ]\n",
    "for text in input_texts:\n",
    "    print(f\"input   : {text}\")\n",
    "    number = nrml.word2number(text)\n",
    "    print(f\"output : {number}\")"
   ]
  },
  {
   "cell_type": "code",
   "execution_count": 4,
   "metadata": {},
   "outputs": [
    {
     "name": "stdout",
     "output_type": "stream",
     "text": [
      "{'digit': '১২৩৪৫', 'digit_word': 'এক দুই তিন চার পাঁচ', 'number_string': 'বারো হাজার তিন শত পঁয়তাল্লিশ'}\n"
     ]
    }
   ],
   "source": [
    "import pybangla\n",
    "nrml = pybangla.Normalizer()\n",
    "number = nrml.number_convert(\"12345\", language=\"bn\")\n",
    "print(number)"
   ]
  },
  {
   "cell_type": "code",
   "execution_count": 5,
   "metadata": {},
   "outputs": [
    {
     "ename": "KeyError",
     "evalue": "'1'",
     "output_type": "error",
     "traceback": [
      "\u001b[0;31m---------------------------------------------------------------------------\u001b[0m",
      "\u001b[0;31mKeyError\u001b[0m                                  Traceback (most recent call last)",
      "Cell \u001b[0;32mIn[5], line 1\u001b[0m\n\u001b[0;32m----> 1\u001b[0m number \u001b[38;5;241m=\u001b[39m \u001b[43mnrml\u001b[49m\u001b[38;5;241;43m.\u001b[39;49m\u001b[43mnumber_convert\u001b[49m\u001b[43m(\u001b[49m\u001b[38;5;124;43m\"\u001b[39;49m\u001b[38;5;124;43m১২৩৪৫\u001b[39;49m\u001b[38;5;124;43m\"\u001b[39;49m\u001b[43m,\u001b[49m\u001b[43m \u001b[49m\u001b[43mlanguage\u001b[49m\u001b[38;5;241;43m=\u001b[39;49m\u001b[38;5;124;43m\"\u001b[39;49m\u001b[38;5;124;43men\u001b[39;49m\u001b[38;5;124;43m\"\u001b[39;49m\u001b[43m)\u001b[49m\n\u001b[1;32m      2\u001b[0m \u001b[38;5;28mprint\u001b[39m(number)\n",
      "File \u001b[0;32m~/anaconda3/envs/yolov7/lib/python3.8/site-packages/pybangla/module/main.py:152\u001b[0m, in \u001b[0;36mNormalizer.number_convert\u001b[0;34m(self, number, language)\u001b[0m\n\u001b[1;32m    150\u001b[0m number   \u001b[38;5;241m=\u001b[39m npr\u001b[38;5;241m.\u001b[39m_digit_converter(number, language)\n\u001b[1;32m    151\u001b[0m number_string \u001b[38;5;241m=\u001b[39m npr\u001b[38;5;241m.\u001b[39mnumber_to_words(number)\n\u001b[0;32m--> 152\u001b[0m digit_word \u001b[38;5;241m=\u001b[39m \u001b[43mnpr\u001b[49m\u001b[38;5;241;43m.\u001b[39;49m\u001b[43mdigit_number_to_digit_word\u001b[49m\u001b[43m(\u001b[49m\u001b[43mnumber\u001b[49m\u001b[43m)\u001b[49m\n\u001b[1;32m    154\u001b[0m data \u001b[38;5;241m=\u001b[39m {\u001b[38;5;124m\"\u001b[39m\u001b[38;5;124mdigit\u001b[39m\u001b[38;5;124m\"\u001b[39m: number, \u001b[38;5;124m\"\u001b[39m\u001b[38;5;124mdigit_word\u001b[39m\u001b[38;5;124m\"\u001b[39m:digit_word , \u001b[38;5;124m\"\u001b[39m\u001b[38;5;124mnumber_string\u001b[39m\u001b[38;5;124m\"\u001b[39m: number_string}\n\u001b[1;32m    155\u001b[0m \u001b[38;5;28;01mreturn\u001b[39;00m data\n",
      "File \u001b[0;32m~/anaconda3/envs/yolov7/lib/python3.8/site-packages/pybangla/module/parser.py:68\u001b[0m, in \u001b[0;36mNumberParser.digit_number_to_digit_word\u001b[0;34m(self, number, language)\u001b[0m\n\u001b[1;32m     66\u001b[0m s_n \u001b[38;5;241m=\u001b[39m \u001b[38;5;124m\"\u001b[39m\u001b[38;5;124m\"\u001b[39m\n\u001b[1;32m     67\u001b[0m \u001b[38;5;28;01mfor\u001b[39;00m i \u001b[38;5;129;01min\u001b[39;00m number:\n\u001b[0;32m---> 68\u001b[0m     n \u001b[38;5;241m=\u001b[39m \u001b[43mdata\u001b[49m\u001b[43m[\u001b[49m\u001b[43mlanguage\u001b[49m\u001b[43m]\u001b[49m\u001b[43m[\u001b[49m\u001b[38;5;124;43m\"\u001b[39;49m\u001b[38;5;124;43mnumber_mapping\u001b[39;49m\u001b[38;5;124;43m\"\u001b[39;49m\u001b[43m]\u001b[49m\u001b[43m[\u001b[49m\u001b[43mi\u001b[49m\u001b[43m]\u001b[49m\n\u001b[1;32m     69\u001b[0m     s_n \u001b[38;5;241m+\u001b[39m\u001b[38;5;241m=\u001b[39m \u001b[38;5;124m\"\u001b[39m\u001b[38;5;124m \u001b[39m\u001b[38;5;124m\"\u001b[39m\u001b[38;5;241m+\u001b[39mn\n\u001b[1;32m     70\u001b[0m \u001b[38;5;28;01mreturn\u001b[39;00m s_n\u001b[38;5;241m.\u001b[39mstrip()\n",
      "\u001b[0;31mKeyError\u001b[0m: '1'"
     ]
    }
   ],
   "source": [
    "\n",
    "\n",
    "\n",
    "\n",
    "number = nrml.number_convert(\"১২৩৪৫\", language=\"en\")\n",
    "print(number)"
   ]
  },
  {
   "cell_type": "markdown",
   "metadata": {},
   "source": [
    "## 3. Date Format\n",
    "\n",
    "Supported Date format, it can convert Bangla and English Both Language\n",
    "```\n",
    "\"2023-04-05\",  \"06-04-2023\", \"04/01/2023\", \"07 April, 2023\", \"Apr 1, 2023\",  \"2023/04/01\", \"01-Apr-2023\", \"01-Apr/2023\",  \"20230401\",  \"20042024\", [\"1\", \"4\", \"2025\"]\n",
    "\n",
    "```"
   ]
  },
  {
   "cell_type": "code",
   "execution_count": 8,
   "metadata": {},
   "outputs": [
    {
     "name": "stdout",
     "output_type": "stream",
     "text": [
      "year_in_number[1] ০\n",
      "{'date': '০১', 'month': 'এপ্রিল', 'year': '২০২৩', 'txt_date': 'এক', 'txt_year': 'দুই হাজার তেইশ', 'weekday': 'শনিবার', 'ls_month': 'শ্রাবণ', 'seasons': 'বর্ষা'}\n"
     ]
    }
   ],
   "source": [
    "\n",
    "import pybangla\n",
    "nrml = pybangla.Normalizer()\n",
    "\n",
    "date = nrml.date_format(\"০১-এপ্রিল/২০২৩\", language=\"bn\")\n",
    "print(f\"{date}\")"
   ]
  },
  {
   "cell_type": "markdown",
   "metadata": {},
   "source": [
    "### Bangla output:"
   ]
  },
  {
   "cell_type": "code",
   "execution_count": 9,
   "metadata": {},
   "outputs": [
    {
     "name": "stdout",
     "output_type": "stream",
     "text": [
      "input : 2023-04-05\n",
      "year_in_number[1] ০\n",
      "output : {'date': '০৫', 'month': 'এপ্রিল', 'year': '২০২৩', 'txt_date': 'পাঁচ', 'txt_year': 'দুই হাজার তেইশ', 'weekday': 'বুধবার', 'ls_month': 'শ্রাবণ', 'seasons': 'বর্ষা'}\n",
      "input : 06-04-2023\n",
      "year_in_number[1] ০\n",
      "output : {'date': '০৬', 'month': 'এপ্রিল', 'year': '২০২৩', 'txt_date': 'ছয়', 'txt_year': 'দুই হাজার তেইশ', 'weekday': 'বৃহস্পতিবার', 'ls_month': 'শ্রাবণ', 'seasons': 'বর্ষা'}\n",
      "input : 04/01/2023\n",
      "year_in_number[1] ০\n",
      "output : {'date': '০৪', 'month': 'জানুয়ারি', 'year': '২০২৩', 'txt_date': 'চার', 'txt_year': 'দুই হাজার তেইশ', 'weekday': 'বুধবার', 'ls_month': 'বৈশাখ', 'seasons': 'গ্রীষ্ম'}\n",
      "input : 07 April, 2023\n",
      "year_in_number[1] ০\n",
      "output : {'date': '০৭', 'month': 'এপ্রিল', 'year': '২০২৩', 'txt_date': 'সাত', 'txt_year': 'দুই হাজার তেইশ', 'weekday': 'শুক্রবার', 'ls_month': 'শ্রাবণ', 'seasons': 'বর্ষা'}\n",
      "input : Apr 1, 2023\n",
      "year_in_number[1] ০\n",
      "output : {'date': '১', 'month': 'এপ্রিল', 'year': '২০২৩', 'txt_date': 'এক', 'txt_year': 'দুই হাজার তেইশ', 'weekday': 'শনিবার', 'ls_month': 'শ্রাবণ', 'seasons': 'বর্ষা'}\n",
      "input : 2023/04/01\n",
      "year_in_number[1] ০\n",
      "output : {'date': '০১', 'month': 'এপ্রিল', 'year': '২০২৩', 'txt_date': 'এক', 'txt_year': 'দুই হাজার তেইশ', 'weekday': 'শনিবার', 'ls_month': 'শ্রাবণ', 'seasons': 'বর্ষা'}\n",
      "input : 01-Apr-2023\n",
      "year_in_number[1] ০\n",
      "output : {'date': '০১', 'month': 'এপ্রিল', 'year': '২০২৩', 'txt_date': 'এক', 'txt_year': 'দুই হাজার তেইশ', 'weekday': 'শনিবার', 'ls_month': 'শ্রাবণ', 'seasons': 'বর্ষা'}\n",
      "input : 01-Apr/2023\n",
      "year_in_number[1] ০\n",
      "output : {'date': '০১', 'month': 'এপ্রিল', 'year': '২০২৩', 'txt_date': 'এক', 'txt_year': 'দুই হাজার তেইশ', 'weekday': 'শনিবার', 'ls_month': 'শ্রাবণ', 'seasons': 'বর্ষা'}\n",
      "input : 20230401\n",
      "year_in_number[1] ০\n",
      "output : {'date': '০১', 'month': 'এপ্রিল', 'year': '২০২৩', 'txt_date': 'এক', 'txt_year': 'দুই হাজার তেইশ', 'weekday': 'শনিবার', 'ls_month': 'শ্রাবণ', 'seasons': 'বর্ষা'}\n",
      "input : 20042024\n",
      "year_in_number[1] ০\n",
      "output : {'date': '২০', 'month': 'এপ্রিল', 'year': '২০২৪', 'txt_date': 'বিশ', 'txt_year': 'দুই হাজার চব্বিশ', 'weekday': 'শনিবার', 'ls_month': 'শ্রাবণ', 'seasons': 'বর্ষা'}\n",
      "input : ['1', '4', '2025']\n",
      "year_in_number[1] ০\n",
      "output : {'date': '১', 'month': 'এপ্রিল', 'year': '২০২৫', 'txt_date': 'এক', 'txt_year': 'দুই হাজার পঁচিশ', 'weekday': 'মঙ্গলবার', 'ls_month': 'শ্রাবণ', 'seasons': 'বর্ষা'}\n"
     ]
    }
   ],
   "source": [
    "date_list  = [\"2023-04-05\",  \"06-04-2023\", \"04/01/2023\", \"07 April, 2023\", \"Apr 1, 2023\",  \"2023/04/01\", \"01-Apr-2023\", \"01-Apr/2023\",  \"20230401\",  \"20042024\", [\"1\", \"4\", \"2025\"]]\n",
    "for date in date_list:\n",
    "    print(\"input :\", date)\n",
    "    fromat_date = nrml.date_format(date, language=\"bn\")\n",
    "    print(\"output :\", fromat_date)"
   ]
  },
  {
   "cell_type": "markdown",
   "metadata": {},
   "source": [
    "### English output:"
   ]
  },
  {
   "cell_type": "code",
   "execution_count": 10,
   "metadata": {},
   "outputs": [
    {
     "name": "stdout",
     "output_type": "stream",
     "text": [
      "input : 2023-04-05\n",
      "year_in_number[1] 0\n",
      "output : {'date': '05', 'month': 'april', 'year': '2023', 'txt_date': 'five', 'txt_year': 'twenty century twenty-three', 'weekday': 'wednesday', 'ls_month': 'apr', 'seasons': 'wet season'}\n",
      "input : 06-04-2023\n",
      "year_in_number[1] 0\n",
      "output : {'date': '06', 'month': 'april', 'year': '2023', 'txt_date': 'six', 'txt_year': 'twenty century twenty-three', 'weekday': 'thursday', 'ls_month': 'apr', 'seasons': 'wet season'}\n",
      "input : 04/01/2023\n",
      "year_in_number[1] 0\n",
      "output : {'date': '04', 'month': 'january', 'year': '2023', 'txt_date': 'four', 'txt_year': 'twenty century twenty-three', 'weekday': 'wednesday', 'ls_month': 'jan', 'seasons': 'summer'}\n",
      "input : 07 April, 2023\n",
      "year_in_number[1] 0\n",
      "output : {'date': '07', 'month': 'april', 'year': '2023', 'txt_date': 'seven', 'txt_year': 'twenty century twenty-three', 'weekday': 'friday', 'ls_month': 'apr', 'seasons': 'wet season'}\n",
      "input : Apr 1, 2023\n",
      "year_in_number[1] 0\n",
      "output : {'date': '1', 'month': 'april', 'year': '2023', 'txt_date': 'one', 'txt_year': 'twenty century twenty-three', 'weekday': 'saturday', 'ls_month': 'apr', 'seasons': 'wet season'}\n",
      "input : 2023/04/01\n",
      "year_in_number[1] 0\n",
      "output : {'date': '01', 'month': 'april', 'year': '2023', 'txt_date': 'one', 'txt_year': 'twenty century twenty-three', 'weekday': 'saturday', 'ls_month': 'apr', 'seasons': 'wet season'}\n",
      "input : 01-Apr-2023\n",
      "year_in_number[1] 0\n",
      "output : {'date': '01', 'month': 'april', 'year': '2023', 'txt_date': 'one', 'txt_year': 'twenty century twenty-three', 'weekday': 'saturday', 'ls_month': 'apr', 'seasons': 'wet season'}\n",
      "input : 01-Apr/2023\n",
      "year_in_number[1] 0\n",
      "output : {'date': '01', 'month': 'april', 'year': '2023', 'txt_date': 'one', 'txt_year': 'twenty century twenty-three', 'weekday': 'saturday', 'ls_month': 'apr', 'seasons': 'wet season'}\n",
      "input : 20230401\n",
      "year_in_number[1] 0\n",
      "output : {'date': '01', 'month': 'april', 'year': '2023', 'txt_date': 'one', 'txt_year': 'twenty century twenty-three', 'weekday': 'saturday', 'ls_month': 'apr', 'seasons': 'wet season'}\n",
      "input : 20042024\n",
      "year_in_number[1] 0\n",
      "output : {'date': '20', 'month': 'april', 'year': '2024', 'txt_date': 'twenty', 'txt_year': 'twenty century twenty-four', 'weekday': 'saturday', 'ls_month': 'apr', 'seasons': 'wet season'}\n",
      "input : ['1', '4', '2025']\n",
      "year_in_number[1] 0\n",
      "output : {'date': '1', 'month': 'april', 'year': '2025', 'txt_date': 'one', 'txt_year': 'twenty century twenty-five', 'weekday': 'tuesday', 'ls_month': 'apr', 'seasons': 'wet season'}\n"
     ]
    }
   ],
   "source": [
    "for date in date_list:\n",
    "    print(\"input :\", date)\n",
    "    fromat_date = nrml.date_format(date, language=\"en\")\n",
    "    print(\"output :\", fromat_date)"
   ]
  },
  {
   "cell_type": "code",
   "execution_count": 3,
   "metadata": {},
   "outputs": [
    {
     "name": "stdout",
     "output_type": "stream",
     "text": [
      "{'date': '২৯', 'month': 'এপ্রিল', 'year': '২০২৪', 'txt_date': 'ঊনত্রিশ', 'txt_year': 'ঊনত্রিশ', 'weekday': 'সোমবার', 'ls_month': 'শ্রাবণ', 'seasons': 'বর্ষা'}\n"
     ]
    }
   ],
   "source": [
    "import pybangla\n",
    "nrml = pybangla.Normalizer()\n",
    "\n",
    "date = nrml.today()\n",
    "print(f\"{date}\")"
   ]
  },
  {
   "cell_type": "code",
   "execution_count": 4,
   "metadata": {},
   "outputs": [
    {
     "name": "stdout",
     "output_type": "stream",
     "text": [
      "আমাকে 102001 টাকা দেয় এন্ড তুমি 20000 টাকা নিও এন্ড 104201 টাকা 122 \n"
     ]
    }
   ],
   "source": [
    "\n",
    "\n",
    "import pybangla\n",
    "nrml = pybangla.Normalizer()\n",
    "\n",
    "text = \"আমাকে এক লক্ষ দুই হাজার এক টাকা দেয় এন্ড তুমি বিশ হাজার টাকা নিও এন্ড এক লক্ষ চার হাজার দুইশ এক টাকা এক ডবল দুই\"\n",
    "number = nrml.word2number(text)\n",
    "print(f\"{number}\")"
   ]
  },
  {
   "cell_type": "code",
   "execution_count": 3,
   "metadata": {},
   "outputs": [
    {
     "name": "stdout",
     "output_type": "stream",
     "text": [
      "year_in_number[1] ০\n",
      "রাহিম ক্লাস ওয়ান এ প্রথম, এন্ড বাসার ক্লাস এ তেত্রিশতম, সে জন্য দুই হাজার ত্রিশ শতাব্দীতে দুই হাজার ত্রিশ দশমি এক দুই তিন চার ইয়েন দিতে হয়েছে\n"
     ]
    }
   ],
   "source": [
    "import pybangla\n",
    "nrml = pybangla.Normalizer()\n",
    "\n",
    "text = \"রাহিম ক্লাস ওয়ান এ ১ম, এন্ড বাসার ক্লাস এ ৩৩ তম, সে জন্য ২০৩০ শতাব্দীতে ¥২০৩০.১২৩৪ দিতে হয়েছে\"\n",
    "text = nrml.text_normalizer(text)\n",
    "print(f\"{text}\")"
   ]
  },
  {
   "cell_type": "code",
   "execution_count": null,
   "metadata": {},
   "outputs": [],
   "source": []
  },
  {
   "cell_type": "code",
   "execution_count": 5,
   "metadata": {},
   "outputs": [
    {
     "name": "stdout",
     "output_type": "stream",
     "text": [
      "{'digit': '১২৩৪৫', 'digit_word': 'এক দুই তিন চার পাঁচ', 'number_string': 'বারো হাজার তিন শত পঁয়তাল্লিশ'}\n"
     ]
    }
   ],
   "source": [
    "import pybangla\n",
    "nrml = pybangla.Normalizer()\n",
    "number = nrml.number_convert(\"12345\", language=\"bn\")\n",
    "print(number)"
   ]
  },
  {
   "cell_type": "code",
   "execution_count": null,
   "metadata": {},
   "outputs": [],
   "source": []
  }
 ],
 "metadata": {
  "kernelspec": {
   "display_name": "Python 3 (ipykernel)",
   "language": "python",
   "name": "python3"
  },
  "language_info": {
   "codemirror_mode": {
    "name": "ipython",
    "version": 3
   },
   "file_extension": ".py",
   "mimetype": "text/x-python",
   "name": "python",
   "nbconvert_exporter": "python",
   "pygments_lexer": "ipython3",
   "version": "3.8.17"
  }
 },
 "nbformat": 4,
 "nbformat_minor": 4
}
